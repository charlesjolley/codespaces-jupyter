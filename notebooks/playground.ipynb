{
 "cells": [
  {
   "cell_type": "markdown",
   "id": "44c9933a",
   "metadata": {},
   "source": [
    "# Conversation Knowledge Graph Memory\n",
    "\n",
    "This type of memory uses a knowledge graph to recreate memory.\n",
    "\n",
    "Let's first walk through how to use the utilities"
   ]
  },
  {
   "cell_type": "code",
   "execution_count": 1,
   "id": "0f598140",
   "metadata": {},
   "outputs": [
    {
     "ename": "TypeError",
     "evalue": "unhashable type: 'list'",
     "output_type": "error",
     "traceback": [
      "\u001b[0;31m---------------------------------------------------------------------------\u001b[0m",
      "\u001b[0;31mTypeError\u001b[0m                                 Traceback (most recent call last)",
      "Cell \u001b[0;32mIn[1], line 3\u001b[0m\n\u001b[1;32m      1\u001b[0m \u001b[39mimport\u001b[39;00m \u001b[39msys\u001b[39;00m\n\u001b[1;32m      2\u001b[0m sys\u001b[39m.\u001b[39mpath\u001b[39m.\u001b[39minsert(\u001b[39m0\u001b[39m, [\u001b[39m\"\u001b[39m\u001b[39m..\u001b[39m\u001b[39m\"\u001b[39m])\n\u001b[0;32m----> 3\u001b[0m \u001b[39mfrom\u001b[39;00m \u001b[39mlangchain\u001b[39;00m\u001b[39m.\u001b[39;00m\u001b[39mllms\u001b[39;00m \u001b[39mimport\u001b[39;00m OpenAI\n\u001b[1;32m      4\u001b[0m \u001b[39mfrom\u001b[39;00m \u001b[39magent\u001b[39;00m\u001b[39m.\u001b[39;00m\u001b[39mprofile_memory\u001b[39;00m \u001b[39mimport\u001b[39;00m ProfileMemory\n",
      "File \u001b[0;32m~/.python/current/lib/python3.10/site-packages/langchain/__init__.py:58\u001b[0m\n\u001b[1;32m     55\u001b[0m \u001b[39mfrom\u001b[39;00m \u001b[39mlangchain\u001b[39;00m\u001b[39m.\u001b[39;00m\u001b[39mutilities\u001b[39;00m\u001b[39m.\u001b[39;00m\u001b[39mwolfram_alpha\u001b[39;00m \u001b[39mimport\u001b[39;00m WolframAlphaAPIWrapper\n\u001b[1;32m     56\u001b[0m \u001b[39mfrom\u001b[39;00m \u001b[39mlangchain\u001b[39;00m\u001b[39m.\u001b[39;00m\u001b[39mvectorstores\u001b[39;00m \u001b[39mimport\u001b[39;00m FAISS, ElasticVectorSearch\n\u001b[0;32m---> 58\u001b[0m __version__ \u001b[39m=\u001b[39m metadata\u001b[39m.\u001b[39;49mversion(__package__)\n\u001b[1;32m     59\u001b[0m \u001b[39mdel\u001b[39;00m metadata  \u001b[39m# optional, avoids polluting the results of dir(__package__)\u001b[39;00m\n\u001b[1;32m     61\u001b[0m verbose: \u001b[39mbool\u001b[39m \u001b[39m=\u001b[39m \u001b[39mFalse\u001b[39;00m\n",
      "File \u001b[0;32m~/.python/current/lib/python3.10/importlib/metadata/__init__.py:984\u001b[0m, in \u001b[0;36mversion\u001b[0;34m(distribution_name)\u001b[0m\n\u001b[1;32m    977\u001b[0m \u001b[39mdef\u001b[39;00m \u001b[39mversion\u001b[39m(distribution_name):\n\u001b[1;32m    978\u001b[0m \u001b[39m    \u001b[39m\u001b[39m\"\"\"Get the version string for the named package.\u001b[39;00m\n\u001b[1;32m    979\u001b[0m \n\u001b[1;32m    980\u001b[0m \u001b[39m    :param distribution_name: The name of the distribution package to query.\u001b[39;00m\n\u001b[1;32m    981\u001b[0m \u001b[39m    :return: The version string for the package as defined in the package's\u001b[39;00m\n\u001b[1;32m    982\u001b[0m \u001b[39m        \"Version\" metadata key.\u001b[39;00m\n\u001b[1;32m    983\u001b[0m \u001b[39m    \"\"\"\u001b[39;00m\n\u001b[0;32m--> 984\u001b[0m     \u001b[39mreturn\u001b[39;00m distribution(distribution_name)\u001b[39m.\u001b[39mversion\n",
      "File \u001b[0;32m~/.python/current/lib/python3.10/importlib/metadata/__init__.py:957\u001b[0m, in \u001b[0;36mdistribution\u001b[0;34m(distribution_name)\u001b[0m\n\u001b[1;32m    951\u001b[0m \u001b[39mdef\u001b[39;00m \u001b[39mdistribution\u001b[39m(distribution_name):\n\u001b[1;32m    952\u001b[0m \u001b[39m    \u001b[39m\u001b[39m\"\"\"Get the ``Distribution`` instance for the named package.\u001b[39;00m\n\u001b[1;32m    953\u001b[0m \n\u001b[1;32m    954\u001b[0m \u001b[39m    :param distribution_name: The name of the distribution package as a string.\u001b[39;00m\n\u001b[1;32m    955\u001b[0m \u001b[39m    :return: A ``Distribution`` instance (or subclass thereof).\u001b[39;00m\n\u001b[1;32m    956\u001b[0m \u001b[39m    \"\"\"\u001b[39;00m\n\u001b[0;32m--> 957\u001b[0m     \u001b[39mreturn\u001b[39;00m Distribution\u001b[39m.\u001b[39;49mfrom_name(distribution_name)\n",
      "File \u001b[0;32m~/.python/current/lib/python3.10/importlib/metadata/__init__.py:544\u001b[0m, in \u001b[0;36mDistribution.from_name\u001b[0;34m(cls, name)\u001b[0m\n\u001b[1;32m    542\u001b[0m \u001b[39mfor\u001b[39;00m resolver \u001b[39min\u001b[39;00m \u001b[39mcls\u001b[39m\u001b[39m.\u001b[39m_discover_resolvers():\n\u001b[1;32m    543\u001b[0m     dists \u001b[39m=\u001b[39m resolver(DistributionFinder\u001b[39m.\u001b[39mContext(name\u001b[39m=\u001b[39mname))\n\u001b[0;32m--> 544\u001b[0m     dist \u001b[39m=\u001b[39m \u001b[39mnext\u001b[39;49m(\u001b[39miter\u001b[39;49m(dists), \u001b[39mNone\u001b[39;49;00m)\n\u001b[1;32m    545\u001b[0m     \u001b[39mif\u001b[39;00m dist \u001b[39mis\u001b[39;00m \u001b[39mnot\u001b[39;00m \u001b[39mNone\u001b[39;00m:\n\u001b[1;32m    546\u001b[0m         \u001b[39mreturn\u001b[39;00m dist\n",
      "File \u001b[0;32m~/.python/current/lib/python3.10/importlib/metadata/__init__.py:903\u001b[0m, in \u001b[0;36m<genexpr>\u001b[0;34m(.0)\u001b[0m\n\u001b[1;32m    901\u001b[0m \u001b[39m\u001b[39m\u001b[39m\"\"\"Find metadata directories in paths heuristically.\"\"\"\u001b[39;00m\n\u001b[1;32m    902\u001b[0m prepared \u001b[39m=\u001b[39m Prepared(name)\n\u001b[0;32m--> 903\u001b[0m \u001b[39mreturn\u001b[39;00m itertools\u001b[39m.\u001b[39mchain\u001b[39m.\u001b[39mfrom_iterable(\n\u001b[1;32m    904\u001b[0m     path\u001b[39m.\u001b[39msearch(prepared) \u001b[39mfor\u001b[39;00m path \u001b[39min\u001b[39;00m \u001b[39mmap\u001b[39m(FastPath, paths)\n\u001b[1;32m    905\u001b[0m )\n",
      "\u001b[0;31mTypeError\u001b[0m: unhashable type: 'list'"
     ]
    }
   ],
   "source": [
    "import sys\n",
    "sys.path.insert(0, [\"..\"])\n",
    "from langchain.llms import OpenAI\n",
    "from agent.profile_memory import ProfileMemory"
   ]
  },
  {
   "cell_type": "code",
   "execution_count": null,
   "id": "541cc055",
   "metadata": {},
   "outputs": [],
   "source": [
    "import os\n",
    "print(os.environ['OPENAI_API_KEY'])\n",
    "llm = OpenAI(temperature=0)\n"
   ]
  },
  {
   "cell_type": "code",
   "execution_count": null,
   "id": "2f4a3c85",
   "metadata": {},
   "outputs": [],
   "source": [
    "memory = ProfileMemory(llm=llm)\n",
    "memory.save_context(\n",
    "  {\"input\": \"Please meet is Sam\"},\n",
    "  {\"output\": \"Who is Sam?\"})\n",
    "memory.save_context(\n",
    "    {\"input\": \"sam is a friend\"},\n",
    "    {\"output\": \"okay\"})"
   ]
  },
  {
   "cell_type": "code",
   "execution_count": null,
   "id": "72283b4f",
   "metadata": {},
   "outputs": [],
   "source": [
    "memory.load_memory_variables({\"input\": 'who is Sam'})"
   ]
  },
  {
   "cell_type": "markdown",
   "id": "0c8ff11e",
   "metadata": {},
   "source": [
    "We can also get the history as a list of messages (this is useful if you are using this with a chat model)."
   ]
  },
  {
   "cell_type": "code",
   "execution_count": null,
   "id": "44df43af",
   "metadata": {},
   "outputs": [],
   "source": [
    "memory = ProfileMemory(llm=llm, return_messages=True)\n",
    "memory.save_context({\"input\": \"say hi to sam\"}, {\"ouput\": \"who is sam\"})\n",
    "memory.save_context({\"input\": \"sam is a friend\"}, {\"ouput\": \"okay\"})"
   ]
  },
  {
   "cell_type": "code",
   "execution_count": null,
   "id": "4726b1c8",
   "metadata": {},
   "outputs": [],
   "source": [
    "memory.load_memory_variables({\"input\": 'who is sam'})"
   ]
  },
  {
   "cell_type": "markdown",
   "id": "dc956b0e",
   "metadata": {},
   "source": [
    "We can also more modularly get current entities from a new message (will use previous messages as context.)"
   ]
  },
  {
   "cell_type": "code",
   "execution_count": null,
   "id": "36331ca5",
   "metadata": {},
   "outputs": [],
   "source": [
    "memory.get_current_entities(\"what's Sams favorite color?\")"
   ]
  },
  {
   "cell_type": "markdown",
   "id": "e8749134",
   "metadata": {},
   "source": [
    "We can also more modularly get knowledge triplets from a new message (will use previous messages as context.)"
   ]
  },
  {
   "cell_type": "code",
   "execution_count": null,
   "id": "b02d44db",
   "metadata": {},
   "outputs": [],
   "source": [
    "memory.get_knowledge_triplets(\"her favorite color is red\")"
   ]
  },
  {
   "attachments": {},
   "cell_type": "markdown",
   "id": "a9743dba",
   "metadata": {},
   "source": [
    "Let's try adding info about me."
   ]
  },
  {
   "cell_type": "code",
   "execution_count": null,
   "id": "581457af",
   "metadata": {},
   "outputs": [],
   "source": [
    "llm = OpenAI(temperature=0)\n",
    "memory = ProfileMemory(llm=llm)\n",
    "memory.save_context(\n",
    "  {\"input\": \"My name is Charles\"},\n",
    "  {\"ouput\": \"Hi Charles!\"})\n",
    "memory.save_context(\n",
    "    {\"input\": \"I like coffee\"},\n",
    "    {\"ouput\": \"okay\"})"
   ]
  },
  {
   "cell_type": "code",
   "execution_count": null,
   "id": "764ca928",
   "metadata": {},
   "outputs": [],
   "source": [
    "memory.get_current_entities(\"My name is Charles\")"
   ]
  },
  {
   "cell_type": "code",
   "execution_count": null,
   "id": "17587ba8",
   "metadata": {},
   "outputs": [],
   "source": [
    "memory.load_memory_variables({\"input\": 'who am I'})"
   ]
  },
  {
   "cell_type": "markdown",
   "id": "f7a02ef3",
   "metadata": {},
   "source": [
    "## Using in a chain\n",
    "Let's now use this in a chain!"
   ]
  },
  {
   "cell_type": "code",
   "execution_count": null,
   "id": "b462baf1",
   "metadata": {},
   "outputs": [],
   "source": [
    "llm = OpenAI(temperature=0)\n",
    "from langchain.prompts.prompt import PromptTemplate\n",
    "from langchain.chains import ConversationChain\n",
    "\n",
    "template = \"\"\"\n",
    "    You are a personal AI assistant named Ozlo. Following is a conversation\n",
    "    between you and human. Your goal is to help them achieve their goals, using any specific details you know about them and the world.\n",
    "\n",
    "    You keep your answers short and too the point, while explaining in as few\n",
    "    words as possible why you answered the way you did. If you don't know an\n",
    "    answer, you say so truthfully. If you are unsure of an answer, you include\n",
    "    qualifiers to hint to the human that you are unsure.\n",
    "\n",
    "    Whenever possible to you take the human's personal preferences into account\n",
    "    and you say so. They can override this preferences by clarifying their goals.\n",
    "    \n",
    "    You only use information in the \"Relevant Information\" section and do not \n",
    "    hallucinate. You do not ask the human questions unless you need to do so in \n",
    "    order to help them complete their task. Always politely allow them to drive the conversation.\n",
    "\n",
    "    If the human tells you something about themselves or their preferences,\n",
    "    you should always acknowledge that you will remember it.\n",
    "\n",
    "    Relevant Information:\n",
    "\n",
    "    {history}\n",
    "\n",
    "    Conversation:\n",
    "    Human: {input}\n",
    "    AI:\"\"\"\n",
    "prompt = PromptTemplate(\n",
    "    input_variables=[\"history\", \"input\"], template=template\n",
    ")\n",
    "ckg = ConversationChain(\n",
    "    llm=llm, \n",
    "    verbose=True, \n",
    "    prompt=prompt,\n",
    "    memory=ProfileMemory(llm=llm)\n",
    ")"
   ]
  },
  {
   "cell_type": "code",
   "execution_count": null,
   "id": "97efaf38",
   "metadata": {},
   "outputs": [],
   "source": [
    "input = \"Hi! My name is Charles. I like authentic mexican food and fine dining\"\n",
    "ckg.predict(input=input)"
   ]
  },
  {
   "cell_type": "code",
   "execution_count": null,
   "id": "dbd82852",
   "metadata": {},
   "outputs": [],
   "source": [
    "input = \"Also, I live in Manhattan beach\"\n",
    "ckg.predict(input=input)"
   ]
  },
  {
   "cell_type": "code",
   "execution_count": null,
   "id": "028cb341",
   "metadata": {},
   "outputs": [],
   "source": [
    "input =     \"What do you know about me?\"\n",
    "ckg.predict(input=input)"
   ]
  },
  {
   "cell_type": "code",
   "execution_count": null,
   "id": "23019cb6",
   "metadata": {},
   "outputs": [],
   "source": [
    "input =     \"What is a good place to get lunch that I will really love?\"\n",
    "ckg.predict(input=input)"
   ]
  },
  {
   "cell_type": "code",
   "execution_count": null,
   "id": "644f1351",
   "metadata": {},
   "outputs": [],
   "source": [
    "input = \"What about someting quick that is close to my house?\"\n",
    "ckg.predict(input=input)"
   ]
  },
  {
   "cell_type": "code",
   "execution_count": null,
   "id": "f1bc892a",
   "metadata": {},
   "outputs": [],
   "source": [
    "input=\"Tiffany is my girlfriend. She is vietnamese and her favorite drink is an old fashioned\"\n",
    "ckg.predict(input=input)"
   ]
  },
  {
   "cell_type": "code",
   "execution_count": null,
   "id": "f44837db",
   "metadata": {},
   "outputs": [],
   "source": [
    "input=\"What do you know about my girlfriend?\"\n",
    "ckg.predict(input=input)"
   ]
  },
  {
   "cell_type": "code",
   "execution_count": null,
   "id": "d8a3d1cc",
   "metadata": {},
   "outputs": [],
   "source": [
    "input=\"If I want to plan a fun date night her, what kind of places could we go to?\"\n",
    "ckg.predict(input=input)"
   ]
  },
  {
   "cell_type": "code",
   "execution_count": null,
   "id": "cbd9c9ee",
   "metadata": {},
   "outputs": [],
   "source": []
  }
 ],
 "metadata": {
  "kernelspec": {
   "display_name": "Python 3 (ipykernel)",
   "language": "python",
   "name": "python3"
  },
  "language_info": {
   "codemirror_mode": {
    "name": "ipython",
    "version": 3
   },
   "file_extension": ".py",
   "mimetype": "text/x-python",
   "name": "python",
   "nbconvert_exporter": "python",
   "pygments_lexer": "ipython3",
   "version": "3.10.4"
  }
 },
 "nbformat": 4,
 "nbformat_minor": 5
}
