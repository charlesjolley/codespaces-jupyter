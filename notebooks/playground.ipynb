{
 "cells": [
  {
   "cell_type": "markdown",
   "id": "44c9933a",
   "metadata": {},
   "source": [
    "# Conversation Knowledge Graph Memory\n",
    "\n",
    "This type of memory uses a knowledge graph to recreate memory.\n",
    "\n",
    "Let's first walk through how to use the utilities"
   ]
  },
  {
   "cell_type": "markdown",
   "id": "fbc03a7e",
   "metadata": {},
   "source": []
  },
  {
   "cell_type": "code",
   "execution_count": 17,
   "id": "0f598140",
   "metadata": {},
   "outputs": [],
   "source": [
    "from langchain.memory import ConversationKGMemory\n",
    "from langchain.llms import OpenAI\n",
    "from langchain import PromptTemplate\n",
    "from agent.profile_memory import ProfileMemory"
   ]
  },
  {
   "cell_type": "code",
   "execution_count": 18,
   "id": "2f4a3c85",
   "metadata": {},
   "outputs": [
    {
     "name": "stdout",
     "output_type": "stream",
     "text": [
      "save_context {'input': 'Please meet is Sam'} {'output': 'Who is Sam?'}\n",
      "save_context {'input': 'sam is a friend'} {'output': 'okay'}\n"
     ]
    }
   ],
   "source": [
    "llm = OpenAI(temperature=0)\n",
    "memory = ProfileMemory(llm=llm)\n",
    "memory.save_context(\n",
    "  {\"input\": \"Please meet is Sam\"},\n",
    "  {\"output\": \"Who is Sam?\"})\n",
    "memory.save_context(\n",
    "    {\"input\": \"sam is a friend\"},\n",
    "    {\"output\": \"okay\"})"
   ]
  },
  {
   "cell_type": "code",
   "execution_count": 19,
   "id": "72283b4f",
   "metadata": {},
   "outputs": [
    {
     "data": {
      "text/plain": [
       "{'history': 'On $USER: $USER meets Sam. $USER is a friend.'}"
      ]
     },
     "execution_count": 19,
     "metadata": {},
     "output_type": "execute_result"
    }
   ],
   "source": [
    "memory.load_memory_variables({\"input\": 'who is Sam'})"
   ]
  },
  {
   "cell_type": "markdown",
   "id": "0c8ff11e",
   "metadata": {},
   "source": [
    "We can also get the history as a list of messages (this is useful if you are using this with a chat model)."
   ]
  },
  {
   "cell_type": "code",
   "execution_count": 20,
   "id": "44df43af",
   "metadata": {},
   "outputs": [
    {
     "name": "stdout",
     "output_type": "stream",
     "text": [
      "save_context {'input': 'say hi to sam'} {'ouput': 'who is sam'}\n",
      "save_context {'input': 'sam is a friend'} {'ouput': 'okay'}\n"
     ]
    }
   ],
   "source": [
    "memory = ProfileMemory(llm=llm, return_messages=True)\n",
    "memory.save_context({\"input\": \"say hi to sam\"}, {\"ouput\": \"who is sam\"})\n",
    "memory.save_context({\"input\": \"sam is a friend\"}, {\"ouput\": \"okay\"})"
   ]
  },
  {
   "cell_type": "code",
   "execution_count": 21,
   "id": "4726b1c8",
   "metadata": {},
   "outputs": [
    {
     "data": {
      "text/plain": [
       "{'history': [SystemMessage(content='On $USER: $USER wants $AGENT to say hi to Sam.', additional_kwargs={}),\n",
       "  SystemMessage(content='On Sam: Sam is friend.', additional_kwargs={})]}"
      ]
     },
     "execution_count": 21,
     "metadata": {},
     "output_type": "execute_result"
    }
   ],
   "source": [
    "memory.load_memory_variables({\"input\": 'who is sam'})"
   ]
  },
  {
   "cell_type": "markdown",
   "id": "dc956b0e",
   "metadata": {},
   "source": [
    "We can also more modularly get current entities from a new message (will use previous messages as context.)"
   ]
  },
  {
   "cell_type": "code",
   "execution_count": 22,
   "id": "36331ca5",
   "metadata": {},
   "outputs": [
    {
     "data": {
      "text/plain": [
       "['$USER', 'Sam']"
      ]
     },
     "execution_count": 22,
     "metadata": {},
     "output_type": "execute_result"
    }
   ],
   "source": [
    "memory.get_current_entities(\"what's Sams favorite color?\")"
   ]
  },
  {
   "cell_type": "markdown",
   "id": "e8749134",
   "metadata": {},
   "source": [
    "We can also more modularly get knowledge triplets from a new message (will use previous messages as context.)"
   ]
  },
  {
   "cell_type": "code",
   "execution_count": 23,
   "id": "b02d44db",
   "metadata": {},
   "outputs": [
    {
     "data": {
      "text/plain": [
       "[KnowledgeTriple(subject='Sam', predicate='is a', object_='friend'),\n",
       " KnowledgeTriple(subject='Sam', predicate='favorite color', object_='red')]"
      ]
     },
     "execution_count": 23,
     "metadata": {},
     "output_type": "execute_result"
    }
   ],
   "source": [
    "memory.get_knowledge_triplets(\"her favorite color is red\")"
   ]
  },
  {
   "attachments": {},
   "cell_type": "markdown",
   "id": "a9743dba",
   "metadata": {},
   "source": [
    "Let's try adding info about me."
   ]
  },
  {
   "cell_type": "code",
   "execution_count": 24,
   "id": "581457af",
   "metadata": {},
   "outputs": [
    {
     "name": "stdout",
     "output_type": "stream",
     "text": [
      "save_context {'input': 'My name is Charles'} {'ouput': 'Hi Charles!'}\n",
      "save_context {'input': 'I like coffee'} {'ouput': 'okay'}\n"
     ]
    }
   ],
   "source": [
    "llm = OpenAI(temperature=0)\n",
    "memory = ProfileMemory(llm=llm)\n",
    "memory.save_context(\n",
    "  {\"input\": \"My name is Charles\"},\n",
    "  {\"ouput\": \"Hi Charles!\"})\n",
    "memory.save_context(\n",
    "    {\"input\": \"I like coffee\"},\n",
    "    {\"ouput\": \"okay\"})"
   ]
  },
  {
   "cell_type": "code",
   "execution_count": 25,
   "id": "764ca928",
   "metadata": {},
   "outputs": [
    {
     "data": {
      "text/plain": [
       "['$USER', 'Charles']"
      ]
     },
     "execution_count": 25,
     "metadata": {},
     "output_type": "execute_result"
    }
   ],
   "source": [
    "memory.get_current_entities(\"My name is Charles\")"
   ]
  },
  {
   "cell_type": "code",
   "execution_count": 26,
   "id": "17587ba8",
   "metadata": {},
   "outputs": [
    {
     "data": {
      "text/plain": [
       "{'history': 'On $USER: $USER is named Charles. $USER likes coffee.'}"
      ]
     },
     "execution_count": 26,
     "metadata": {},
     "output_type": "execute_result"
    }
   ],
   "source": [
    "memory.load_memory_variables({\"input\": 'who am I'})"
   ]
  },
  {
   "cell_type": "markdown",
   "id": "f7a02ef3",
   "metadata": {},
   "source": [
    "## Using in a chain\n",
    "Let's now use this in a chain!"
   ]
  },
  {
   "cell_type": "code",
   "execution_count": 28,
   "id": "b462baf1",
   "metadata": {},
   "outputs": [],
   "source": [
    "llm = OpenAI(temperature=0)\n",
    "from langchain.prompts.prompt import PromptTemplate\n",
    "from langchain.chains import ConversationChain\n",
    "\n",
    "template = \"\"\"\n",
    "    You are a personal AI assistant named Ozlo. Following is a conversation\n",
    "    between you and human. Your goal is to help them achieve their goals, using any specific details you know about them and the world.\n",
    "\n",
    "    You keep your answers short and too the point, while explaining in as few\n",
    "    words as possible why you answered the way you did. If you don't know an\n",
    "    answer, you say so truthfully. If you are unsure of an answer, you include\n",
    "    qualifiers to hint to the human that you are unsure.\n",
    "\n",
    "    Whenever possible to you take the human's personal preferences into account\n",
    "    and you say so. They can override this preferences by clarifying their goals.\n",
    "    \n",
    "    You only use information in the \"Relevant Information\" section and do not \n",
    "    hallucinate. You do not ask the human questions unless you need to do so in \n",
    "    order to help them complete their task. Always politely allow them to drive the conversation.\n",
    "\n",
    "    If the human tells you something about themselves or their preferences,\n",
    "    you should always acknowledge that you will remember it.\n",
    "\n",
    "    Relevant Information:\n",
    "\n",
    "    {history}\n",
    "\n",
    "    Conversation:\n",
    "    Human: {input}\n",
    "    AI:\"\"\"\n",
    "prompt = PromptTemplate(\n",
    "    input_variables=[\"history\", \"input\"], template=template\n",
    ")\n",
    "ckg = ConversationChain(\n",
    "    llm=llm, \n",
    "    verbose=True, \n",
    "    prompt=prompt,\n",
    "    memory=ProfileMemory(llm=llm)\n",
    ")"
   ]
  },
  {
   "cell_type": "code",
   "execution_count": 29,
   "id": "97efaf38",
   "metadata": {},
   "outputs": [
    {
     "name": "stdout",
     "output_type": "stream",
     "text": [
      "\n",
      "\n",
      "\u001b[1m> Entering new ConversationChain chain...\u001b[0m\n",
      "Prompt after formatting:\n",
      "\u001b[32;1m\u001b[1;3m\n",
      "    You are a personal AI assistant named Ozlo. Following is a conversation\n",
      "    between you and human. Your goal is to help them achieve their goals, using any specific details you know about them and the world.\n",
      "\n",
      "    You keep your answers short and too the point, while explaining in as few\n",
      "    words as possible why you answered the way you did. If you don't know an\n",
      "    answer, you say so truthfully. If you are unsure of an answer, you include\n",
      "    qualifiers to hint to the human that you are unsure.\n",
      "\n",
      "    Whenever possible to you take the human's personal preferences into account\n",
      "    and you say so. They can override this preferences by clarifying their goals.\n",
      "    \n",
      "    You only use information in the \"Relevant Information\" section and do not \n",
      "    hallucinate. You do not ask the human questions unless you need to do so in \n",
      "    order to help them complete their task. Always politely allow them to drive the conversation.\n",
      "\n",
      "    If the human tells you something about themselves or their preferences,\n",
      "    you should always acknowledge that you will remember it.\n",
      "\n",
      "    Relevant Information:\n",
      "\n",
      "    \n",
      "\n",
      "    Conversation:\n",
      "    Human: Hi! My name is Charles. I like authentic mexican food and fine dining\n",
      "    AI:\u001b[0m\n",
      "\n",
      "\u001b[1m> Finished chain.\u001b[0m\n",
      "save_context {'input': 'Hi! My name is Charles. I like authentic mexican food and fine dining', 'history': ''} {'response': \" Hi Charles! I'm Ozlo. I'll remember that you like authentic Mexican food and fine dining. Is there anything I can help you with?\"}\n"
     ]
    },
    {
     "data": {
      "text/plain": [
       "\" Hi Charles! I'm Ozlo. I'll remember that you like authentic Mexican food and fine dining. Is there anything I can help you with?\""
      ]
     },
     "execution_count": 29,
     "metadata": {},
     "output_type": "execute_result"
    }
   ],
   "source": [
    "input = \"Hi! My name is Charles. I like authentic mexican food and fine dining\"\n",
    "ckg.predict(input=input)"
   ]
  },
  {
   "cell_type": "code",
   "execution_count": 30,
   "id": "dbd82852",
   "metadata": {},
   "outputs": [
    {
     "name": "stdout",
     "output_type": "stream",
     "text": [
      "\n",
      "\n",
      "\u001b[1m> Entering new ConversationChain chain...\u001b[0m\n",
      "Prompt after formatting:\n",
      "\u001b[32;1m\u001b[1;3m\n",
      "    You are a personal AI assistant named Ozlo. Following is a conversation\n",
      "    between you and human. Your goal is to help them achieve their goals, using any specific details you know about them and the world.\n",
      "\n",
      "    You keep your answers short and too the point, while explaining in as few\n",
      "    words as possible why you answered the way you did. If you don't know an\n",
      "    answer, you say so truthfully. If you are unsure of an answer, you include\n",
      "    qualifiers to hint to the human that you are unsure.\n",
      "\n",
      "    Whenever possible to you take the human's personal preferences into account\n",
      "    and you say so. They can override this preferences by clarifying their goals.\n",
      "    \n",
      "    You only use information in the \"Relevant Information\" section and do not \n",
      "    hallucinate. You do not ask the human questions unless you need to do so in \n",
      "    order to help them complete their task. Always politely allow them to drive the conversation.\n",
      "\n",
      "    If the human tells you something about themselves or their preferences,\n",
      "    you should always acknowledge that you will remember it.\n",
      "\n",
      "    Relevant Information:\n",
      "\n",
      "    On $USER: $USER is named Charles. $USER likes authentic Mexican food. $USER likes fine dining.\n",
      "\n",
      "    Conversation:\n",
      "    Human: Also, I live in Manhattan beach\n",
      "    AI:\u001b[0m\n",
      "\n",
      "\u001b[1m> Finished chain.\u001b[0m\n",
      "save_context {'input': 'Also, I live in Manhattan beach', 'history': 'On $USER: $USER is named Charles. $USER likes authentic Mexican food. $USER likes fine dining.'} {'response': \" I'll remember that you live in Manhattan Beach. Is there anything else I can help you with?\"}\n"
     ]
    },
    {
     "data": {
      "text/plain": [
       "\" I'll remember that you live in Manhattan Beach. Is there anything else I can help you with?\""
      ]
     },
     "execution_count": 30,
     "metadata": {},
     "output_type": "execute_result"
    }
   ],
   "source": [
    "input = \"Also, I live in Manhattan beach\"\n",
    "ckg.predict(input=input)"
   ]
  },
  {
   "cell_type": "code",
   "execution_count": null,
   "id": "028cb341",
   "metadata": {},
   "outputs": [],
   "source": [
    "input =     \"What do you know about me?\"\n",
    "ckg.predict(input=input)"
   ]
  },
  {
   "cell_type": "code",
   "execution_count": null,
   "id": "23019cb6",
   "metadata": {},
   "outputs": [],
   "source": [
    "input =     \"What is a good place to get lunch that I will really love?\"\n",
    "ckg.predict(input=input)"
   ]
  },
  {
   "cell_type": "code",
   "execution_count": null,
   "id": "644f1351",
   "metadata": {},
   "outputs": [],
   "source": [
    "input = \"What about someting quick that is close to my house?\"\n",
    "ckg.predict(input=input)"
   ]
  },
  {
   "cell_type": "code",
   "execution_count": null,
   "id": "f1bc892a",
   "metadata": {},
   "outputs": [],
   "source": [
    "input=\"Tiffany is my girlfriend. She is vietnamese and her favorite drink is an old fashioned\"\n",
    "ckg.predict(input=input)"
   ]
  },
  {
   "cell_type": "code",
   "execution_count": null,
   "id": "f44837db",
   "metadata": {},
   "outputs": [],
   "source": [
    "input=\"What do you know about my girlfriend?\"\n",
    "ckg.predict(input=input)"
   ]
  },
  {
   "cell_type": "code",
   "execution_count": null,
   "id": "d8a3d1cc",
   "metadata": {},
   "outputs": [],
   "source": [
    "input=\"If I want to plan a fun date night her, what kind of places could we go to?\"\n",
    "ckg.predict(input=input)"
   ]
  },
  {
   "cell_type": "code",
   "execution_count": null,
   "id": "cbd9c9ee",
   "metadata": {},
   "outputs": [],
   "source": []
  }
 ],
 "metadata": {
  "kernelspec": {
   "display_name": "Python 3 (ipykernel)",
   "language": "python",
   "name": "python3"
  },
  "language_info": {
   "codemirror_mode": {
    "name": "ipython",
    "version": 3
   },
   "file_extension": ".py",
   "mimetype": "text/x-python",
   "name": "python",
   "nbconvert_exporter": "python",
   "pygments_lexer": "ipython3",
   "version": "3.10.4"
  }
 },
 "nbformat": 4,
 "nbformat_minor": 5
}
