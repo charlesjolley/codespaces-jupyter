{
 "cells": [
  {
   "cell_type": "code",
   "execution_count": null,
   "metadata": {},
   "outputs": [],
   "source": [
    "import sys\n",
    "sys.path.insert(0, \"..\")"
   ]
  },
  {
   "attachments": {},
   "cell_type": "markdown",
   "metadata": {},
   "source": [
    "# Personalized Agent\n",
    "\n",
    "Testing ground for a personalized agent that can learn about you and help with important tasks.\n",
    "\n",
    "Key Tasks:\n",
    "\n",
    "1. I can tell it about things that I like and it will remember them. Later I \n",
    "  can ask it to retrieve those facts for me and it can use those facts when \n",
    "  making suggestions.\n",
    "\n",
    "  | Speaker | Message |\n",
    "  | --- | --- |\n",
    "  | Human | My favorite coffee is espresso. |\n",
    "  | Agent | OK, I'll remember that. |\n",
    "  | Human | What's a good coffee shop in Santa Monica |\n",
    "  | Agent | There are many good coffee shops in Santa Monica. [Blue Bottle] is known for its espresso. |\n",
    "\n",
    "2. While planning a trip, I give it feedback on what I like and don't like. The \n",
    "  next time, it should have some ideas of what I'm probably going to like.\n",
    "\n",
    "As I use the agent, it just records a lot of observations about me in a vector store. Later, I cam retrieve all the associated observations and then ask for a specific summary of the profile.\n",
    "\n",
    "Graph Database stores entities and assertions about them. Assertions have an\n",
    "associated weight. Entities have a specific code"
   ]
  }
 ],
 "metadata": {
  "language_info": {
   "name": "python"
  },
  "orig_nbformat": 4
 },
 "nbformat": 4,
 "nbformat_minor": 2
}
