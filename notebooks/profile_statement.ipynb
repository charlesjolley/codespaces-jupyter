{
 "cells": [
  {
   "cell_type": "code",
   "execution_count": 1,
   "metadata": {},
   "outputs": [],
   "source": [
    "import sys\n",
    "sys.path.insert(0, \"..\")\n"
   ]
  },
  {
   "attachments": {},
   "cell_type": "markdown",
   "metadata": {},
   "source": [
    "# Profile Memory\n",
    "\n",
    "Profile memory learns about the user's preferences and beliefs and then injects relevant beliefs into each prompt so the agent and customize it's response."
   ]
  },
  {
   "cell_type": "code",
   "execution_count": 2,
   "metadata": {},
   "outputs": [],
   "source": [
    "# Script\n",
    "inputs = [\n",
    "    \"Hi! I'm Charles.\",\n",
    "    \"I like mexican food, fine dining, and drink lots of coffee!\",\n",
    "    \"I have a girlfriend named Tiffany\",\n",
    "    \"She is vietnamese and her favorite cocktail is an old fashion\",\n",
    "    \"She's really into cars, especially lamborghinis. Her's is pink!\"\n",
    "]"
   ]
  },
  {
   "cell_type": "code",
   "execution_count": 3,
   "metadata": {},
   "outputs": [],
   "source": [
    "from langchain.llms import OpenAI\n",
    "from langchain.prompts import PromptTemplate\n",
    "from langchain.chains import ConversationChain\n",
    "from langchain.memory import ConversationSummaryBufferMemory, CombinedMemory\n",
    "\n",
    "from agent.profile_memory import ProfileMemory\n",
    "\n",
    "llm = OpenAI(temperature=0)\n",
    "\n",
    "summary_memory = ConversationSummaryBufferMemory(\n",
    "  llm=llm,\n",
    "  memory_key=\"chat_history\",\n",
    "  input_key=\"input\")\n",
    "\n",
    "memory = CombinedMemory(memories=[summary_memory])\n",
    "\n",
    "DEFAULT_TEMPLATE = \"\"\"\n",
    "  Your job is read a chat between an AI and a human and infer as much knowledge as you can about the human based on the last line of the transcript including all of the relevant preferences, beliefs, people, places, things in their world, etc., stored in the form of statements that can be used in a future prompt to help you remember things you need to know about the human. In addition to storing facts and opinions extracts directly from the, you should also generate additional statements inferred from the data that might be useful in personalizing future recommendations.\n",
    "\n",
    "  The human is an entity, referred to internally as \"$U\" and the AI is an\n",
    "  entity referred to internally as \"$A\". Resolve any first or second \n",
    "  person references according to the speaker.\n",
    "\n",
    "  Only make inferences from the final line. use previous lines to resolve coreferences.\n",
    "\n",
    "  EXAMPLE\n",
    "  Current conversation:\n",
    "  AI: Hello!\n",
    "  Human: Hello! My name is Jim. My girlfriend (Pam) and I love italian.\n",
    "  AI:$U is named Jim. $U has a girlfriend. $U's girlfriend is named Pam. $U loves italian. Pam loves italian. Italian is a good recommendation for a date with Pam.\n",
    "  END EXAMPLE\n",
    "\n",
    "  EXAMPLE\n",
    "  Current conversation:\n",
    "  Human: Hi! You know my girlfriend, Pam?\n",
    "  AI: Yes. What about her?\n",
    "  Human:  She has a cool Tesla and love burritos\n",
    "  AI:\n",
    "  Pam has a Tesla\n",
    "  Pam loves burritos\n",
    "  Burritos could be a good recommendation when ordering food for Pam.\n",
    "  $U thinks Pam's Tesla is cool.\n",
    "  END EXAMPLE\n",
    "\n",
    "  EXAMPLE\n",
    "  Current Conversation:\n",
    "  Human: I prefer you keep your answers short and to the point\n",
    "  AI:\n",
    "  $U prefers $A to keep answers short and to the point.\n",
    "  END EXAMPLE\n",
    "\n",
    "  Current Conversation:\n",
    "  {chat_history}\n",
    "  Human: {input}\n",
    "  AI:\n",
    "  \"\"\"\n",
    "\n",
    "prompt = PromptTemplate(\n",
    "  input_variables=[\"chat_history\", \"input\"],\n",
    "  template=DEFAULT_TEMPLATE\n",
    ")\n",
    "\n",
    "ckg = ConversationChain(\n",
    "    llm=llm, \n",
    "    verbose=True, \n",
    "    memory=memory,\n",
    "    prompt=prompt\n",
    ")\n",
    "\n",
    "def predict_next_input():\n",
    "  input = inputs.pop(0)\n",
    "  print(\"Input:\", input)\n",
    "  return ckg.predict(input=input)"
   ]
  },
  {
   "cell_type": "code",
   "execution_count": 4,
   "metadata": {},
   "outputs": [
    {
     "name": "stdout",
     "output_type": "stream",
     "text": [
      "Input: Hi! I'm Charles.\n",
      "\n",
      "\n",
      "\u001b[1m> Entering new ConversationChain chain...\u001b[0m\n",
      "Prompt after formatting:\n",
      "\u001b[32;1m\u001b[1;3m\n",
      "  Your job is read a chat between an AI and a human and infer as much knowledge as you can about the human based on the last line of the transcript including all of the relevant preferences, beliefs, people, places, things in their world, etc., stored in the form of statements that can be used in a future prompt to help you remember things you need to know about the human. In addition to storing facts and opinions extracts directly from the, you should also generate additional statements inferred from the data that might be useful in personalizing future recommendations.\n",
      "\n",
      "  The human is an entity, referred to internally as \"$U\" and the AI is an\n",
      "  entity referred to internally as \"$A\". Resolve any first or second \n",
      "  person references according to the speaker.\n",
      "\n",
      "  Only make inferences from the final line. use previous lines to resolve coreferences.\n",
      "\n",
      "  EXAMPLE\n",
      "  Current conversation:\n",
      "  AI: Hello!\n",
      "  Human: Hello! My name is Jim. My girlfriend (Pam) and I love italian.\n",
      "  AI:$U is named Jim. $U has a girlfriend. $U's girlfriend is named Pam. $U loves italian. Pam loves italian. Italian is a good recommendation for a date with Pam.\n",
      "  END EXAMPLE\n",
      "\n",
      "  EXAMPLE\n",
      "  Current conversation:\n",
      "  Human: Hi! You know my girlfriend, Pam?\n",
      "  AI: Yes. What about her?\n",
      "  Human:  She has a cool Tesla and love burritos\n",
      "  AI:\n",
      "  Pam has a Tesla\n",
      "  Pam loves burritos\n",
      "  Burritos could be a good recommendation when ordering food for Pam.\n",
      "  $U thinks Pam's Tesla is cool.\n",
      "  END EXAMPLE\n",
      "\n",
      "  EXAMPLE\n",
      "  Current Conversation:\n",
      "  Human: I prefer you keep your answers short and to the point\n",
      "  AI:\n",
      "  $U prefers $A to keep answers short and to the point.\n",
      "  END EXAMPLE\n",
      "\n",
      "  Current Conversation:\n",
      "  \n",
      "  Human: Hi! I'm Charles.\n",
      "  AI:\n",
      "  \u001b[0m\n",
      "\n",
      "\u001b[1m> Finished chain.\u001b[0m\n"
     ]
    },
    {
     "data": {
      "text/plain": [
       "'\\n  $U is named Charles.'"
      ]
     },
     "execution_count": 4,
     "metadata": {},
     "output_type": "execute_result"
    }
   ],
   "source": [
    "predict_next_input()"
   ]
  },
  {
   "cell_type": "code",
   "execution_count": 5,
   "metadata": {},
   "outputs": [
    {
     "name": "stdout",
     "output_type": "stream",
     "text": [
      "Input: I like mexican food, fine dining, and drink lots of coffee!\n",
      "\n",
      "\n",
      "\u001b[1m> Entering new ConversationChain chain...\u001b[0m\n",
      "Prompt after formatting:\n",
      "\u001b[32;1m\u001b[1;3m\n",
      "  Your job is read a chat between an AI and a human and infer as much knowledge as you can about the human based on the last line of the transcript including all of the relevant preferences, beliefs, people, places, things in their world, etc., stored in the form of statements that can be used in a future prompt to help you remember things you need to know about the human. In addition to storing facts and opinions extracts directly from the, you should also generate additional statements inferred from the data that might be useful in personalizing future recommendations.\n",
      "\n",
      "  The human is an entity, referred to internally as \"$U\" and the AI is an\n",
      "  entity referred to internally as \"$A\". Resolve any first or second \n",
      "  person references according to the speaker.\n",
      "\n",
      "  Only make inferences from the final line. use previous lines to resolve coreferences.\n",
      "\n",
      "  EXAMPLE\n",
      "  Current conversation:\n",
      "  AI: Hello!\n",
      "  Human: Hello! My name is Jim. My girlfriend (Pam) and I love italian.\n",
      "  AI:$U is named Jim. $U has a girlfriend. $U's girlfriend is named Pam. $U loves italian. Pam loves italian. Italian is a good recommendation for a date with Pam.\n",
      "  END EXAMPLE\n",
      "\n",
      "  EXAMPLE\n",
      "  Current conversation:\n",
      "  Human: Hi! You know my girlfriend, Pam?\n",
      "  AI: Yes. What about her?\n",
      "  Human:  She has a cool Tesla and love burritos\n",
      "  AI:\n",
      "  Pam has a Tesla\n",
      "  Pam loves burritos\n",
      "  Burritos could be a good recommendation when ordering food for Pam.\n",
      "  $U thinks Pam's Tesla is cool.\n",
      "  END EXAMPLE\n",
      "\n",
      "  EXAMPLE\n",
      "  Current Conversation:\n",
      "  Human: I prefer you keep your answers short and to the point\n",
      "  AI:\n",
      "  $U prefers $A to keep answers short and to the point.\n",
      "  END EXAMPLE\n",
      "\n",
      "  Current Conversation:\n",
      "  Human: Hi! I'm Charles.\n",
      "AI: \n",
      "  $U is named Charles.\n",
      "  Human: I like mexican food, fine dining, and drink lots of coffee!\n",
      "  AI:\n",
      "  \u001b[0m\n",
      "\n",
      "\u001b[1m> Finished chain.\u001b[0m\n"
     ]
    },
    {
     "data": {
      "text/plain": [
       "' $U likes mexican food.\\n   $U likes fine dining.\\n   $U drinks lots of coffee.\\n   Mexican food, fine dining, and coffee could be good recommendations for $U.'"
      ]
     },
     "execution_count": 5,
     "metadata": {},
     "output_type": "execute_result"
    }
   ],
   "source": [
    "predict_next_input()"
   ]
  },
  {
   "cell_type": "code",
   "execution_count": 6,
   "metadata": {},
   "outputs": [
    {
     "name": "stdout",
     "output_type": "stream",
     "text": [
      "Input: I have a girlfriend named Tiffany\n",
      "\n",
      "\n",
      "\u001b[1m> Entering new ConversationChain chain...\u001b[0m\n",
      "Prompt after formatting:\n",
      "\u001b[32;1m\u001b[1;3m\n",
      "  Your job is read a chat between an AI and a human and infer as much knowledge as you can about the human based on the last line of the transcript including all of the relevant preferences, beliefs, people, places, things in their world, etc., stored in the form of statements that can be used in a future prompt to help you remember things you need to know about the human. In addition to storing facts and opinions extracts directly from the, you should also generate additional statements inferred from the data that might be useful in personalizing future recommendations.\n",
      "\n",
      "  The human is an entity, referred to internally as \"$U\" and the AI is an\n",
      "  entity referred to internally as \"$A\". Resolve any first or second \n",
      "  person references according to the speaker.\n",
      "\n",
      "  Only make inferences from the final line. use previous lines to resolve coreferences.\n",
      "\n",
      "  EXAMPLE\n",
      "  Current conversation:\n",
      "  AI: Hello!\n",
      "  Human: Hello! My name is Jim. My girlfriend (Pam) and I love italian.\n",
      "  AI:$U is named Jim. $U has a girlfriend. $U's girlfriend is named Pam. $U loves italian. Pam loves italian. Italian is a good recommendation for a date with Pam.\n",
      "  END EXAMPLE\n",
      "\n",
      "  EXAMPLE\n",
      "  Current conversation:\n",
      "  Human: Hi! You know my girlfriend, Pam?\n",
      "  AI: Yes. What about her?\n",
      "  Human:  She has a cool Tesla and love burritos\n",
      "  AI:\n",
      "  Pam has a Tesla\n",
      "  Pam loves burritos\n",
      "  Burritos could be a good recommendation when ordering food for Pam.\n",
      "  $U thinks Pam's Tesla is cool.\n",
      "  END EXAMPLE\n",
      "\n",
      "  EXAMPLE\n",
      "  Current Conversation:\n",
      "  Human: I prefer you keep your answers short and to the point\n",
      "  AI:\n",
      "  $U prefers $A to keep answers short and to the point.\n",
      "  END EXAMPLE\n",
      "\n",
      "  Current Conversation:\n",
      "  Human: Hi! I'm Charles.\n",
      "AI: \n",
      "  $U is named Charles.\n",
      "Human: I like mexican food, fine dining, and drink lots of coffee!\n",
      "AI:  $U likes mexican food.\n",
      "   $U likes fine dining.\n",
      "   $U drinks lots of coffee.\n",
      "   Mexican food, fine dining, and coffee could be good recommendations for $U.\n",
      "  Human: I have a girlfriend named Tiffany\n",
      "  AI:\n",
      "  \u001b[0m\n",
      "\n",
      "\u001b[1m> Finished chain.\u001b[0m\n"
     ]
    },
    {
     "data": {
      "text/plain": [
       "' $U has a girlfriend named Tiffany.\\n   Tiffany could be a good recommendation for a date with $U.'"
      ]
     },
     "execution_count": 6,
     "metadata": {},
     "output_type": "execute_result"
    }
   ],
   "source": [
    "predict_next_input()"
   ]
  },
  {
   "cell_type": "code",
   "execution_count": 7,
   "metadata": {},
   "outputs": [
    {
     "name": "stdout",
     "output_type": "stream",
     "text": [
      "Input: She is vietnamese and her favorite cocktail is an old fashion\n",
      "\n",
      "\n",
      "\u001b[1m> Entering new ConversationChain chain...\u001b[0m\n",
      "Prompt after formatting:\n",
      "\u001b[32;1m\u001b[1;3m\n",
      "  Your job is read a chat between an AI and a human and infer as much knowledge as you can about the human based on the last line of the transcript including all of the relevant preferences, beliefs, people, places, things in their world, etc., stored in the form of statements that can be used in a future prompt to help you remember things you need to know about the human. In addition to storing facts and opinions extracts directly from the, you should also generate additional statements inferred from the data that might be useful in personalizing future recommendations.\n",
      "\n",
      "  The human is an entity, referred to internally as \"$U\" and the AI is an\n",
      "  entity referred to internally as \"$A\". Resolve any first or second \n",
      "  person references according to the speaker.\n",
      "\n",
      "  Only make inferences from the final line. use previous lines to resolve coreferences.\n",
      "\n",
      "  EXAMPLE\n",
      "  Current conversation:\n",
      "  AI: Hello!\n",
      "  Human: Hello! My name is Jim. My girlfriend (Pam) and I love italian.\n",
      "  AI:$U is named Jim. $U has a girlfriend. $U's girlfriend is named Pam. $U loves italian. Pam loves italian. Italian is a good recommendation for a date with Pam.\n",
      "  END EXAMPLE\n",
      "\n",
      "  EXAMPLE\n",
      "  Current conversation:\n",
      "  Human: Hi! You know my girlfriend, Pam?\n",
      "  AI: Yes. What about her?\n",
      "  Human:  She has a cool Tesla and love burritos\n",
      "  AI:\n",
      "  Pam has a Tesla\n",
      "  Pam loves burritos\n",
      "  Burritos could be a good recommendation when ordering food for Pam.\n",
      "  $U thinks Pam's Tesla is cool.\n",
      "  END EXAMPLE\n",
      "\n",
      "  EXAMPLE\n",
      "  Current Conversation:\n",
      "  Human: I prefer you keep your answers short and to the point\n",
      "  AI:\n",
      "  $U prefers $A to keep answers short and to the point.\n",
      "  END EXAMPLE\n",
      "\n",
      "  Current Conversation:\n",
      "  Human: Hi! I'm Charles.\n",
      "AI: \n",
      "  $U is named Charles.\n",
      "Human: I like mexican food, fine dining, and drink lots of coffee!\n",
      "AI:  $U likes mexican food.\n",
      "   $U likes fine dining.\n",
      "   $U drinks lots of coffee.\n",
      "   Mexican food, fine dining, and coffee could be good recommendations for $U.\n",
      "Human: I have a girlfriend named Tiffany\n",
      "AI:  $U has a girlfriend named Tiffany.\n",
      "   Tiffany could be a good recommendation for a date with $U.\n",
      "  Human: She is vietnamese and her favorite cocktail is an old fashion\n",
      "  AI:\n",
      "  \u001b[0m\n",
      "\n",
      "\u001b[1m> Finished chain.\u001b[0m\n"
     ]
    },
    {
     "data": {
      "text/plain": [
       "\" Tiffany is Vietnamese.\\n   Tiffany's favorite cocktail is an Old Fashion.\\n   An Old Fashion could be a good recommendation for a drink with Tiffany.\""
      ]
     },
     "execution_count": 7,
     "metadata": {},
     "output_type": "execute_result"
    }
   ],
   "source": [
    "predict_next_input()"
   ]
  },
  {
   "cell_type": "code",
   "execution_count": 8,
   "metadata": {},
   "outputs": [
    {
     "name": "stdout",
     "output_type": "stream",
     "text": [
      "Input: She's really into cars, especially lamborghinis. Her's is pink!\n",
      "\n",
      "\n",
      "\u001b[1m> Entering new ConversationChain chain...\u001b[0m\n",
      "Prompt after formatting:\n",
      "\u001b[32;1m\u001b[1;3m\n",
      "  Your job is read a chat between an AI and a human and infer as much knowledge as you can about the human based on the last line of the transcript including all of the relevant preferences, beliefs, people, places, things in their world, etc., stored in the form of statements that can be used in a future prompt to help you remember things you need to know about the human. In addition to storing facts and opinions extracts directly from the, you should also generate additional statements inferred from the data that might be useful in personalizing future recommendations.\n",
      "\n",
      "  The human is an entity, referred to internally as \"$U\" and the AI is an\n",
      "  entity referred to internally as \"$A\". Resolve any first or second \n",
      "  person references according to the speaker.\n",
      "\n",
      "  Only make inferences from the final line. use previous lines to resolve coreferences.\n",
      "\n",
      "  EXAMPLE\n",
      "  Current conversation:\n",
      "  AI: Hello!\n",
      "  Human: Hello! My name is Jim. My girlfriend (Pam) and I love italian.\n",
      "  AI:$U is named Jim. $U has a girlfriend. $U's girlfriend is named Pam. $U loves italian. Pam loves italian. Italian is a good recommendation for a date with Pam.\n",
      "  END EXAMPLE\n",
      "\n",
      "  EXAMPLE\n",
      "  Current conversation:\n",
      "  Human: Hi! You know my girlfriend, Pam?\n",
      "  AI: Yes. What about her?\n",
      "  Human:  She has a cool Tesla and love burritos\n",
      "  AI:\n",
      "  Pam has a Tesla\n",
      "  Pam loves burritos\n",
      "  Burritos could be a good recommendation when ordering food for Pam.\n",
      "  $U thinks Pam's Tesla is cool.\n",
      "  END EXAMPLE\n",
      "\n",
      "  EXAMPLE\n",
      "  Current Conversation:\n",
      "  Human: I prefer you keep your answers short and to the point\n",
      "  AI:\n",
      "  $U prefers $A to keep answers short and to the point.\n",
      "  END EXAMPLE\n",
      "\n",
      "  Current Conversation:\n",
      "  Human: Hi! I'm Charles.\n",
      "AI: \n",
      "  $U is named Charles.\n",
      "Human: I like mexican food, fine dining, and drink lots of coffee!\n",
      "AI:  $U likes mexican food.\n",
      "   $U likes fine dining.\n",
      "   $U drinks lots of coffee.\n",
      "   Mexican food, fine dining, and coffee could be good recommendations for $U.\n",
      "Human: I have a girlfriend named Tiffany\n",
      "AI:  $U has a girlfriend named Tiffany.\n",
      "   Tiffany could be a good recommendation for a date with $U.\n",
      "Human: She is vietnamese and her favorite cocktail is an old fashion\n",
      "AI:  Tiffany is Vietnamese.\n",
      "   Tiffany's favorite cocktail is an Old Fashion.\n",
      "   An Old Fashion could be a good recommendation for a drink with Tiffany.\n",
      "  Human: She's really into cars, especially lamborghinis. Her's is pink!\n",
      "  AI:\n",
      "  \u001b[0m\n",
      "\n",
      "\u001b[1m> Finished chain.\u001b[0m\n"
     ]
    },
    {
     "data": {
      "text/plain": [
       "\" Tiffany is into cars, especially Lamborghinis.\\n   Tiffany's Lamborghini is pink.\\n   Lamborghinis could be a good recommendation for a car for Tiffany.\""
      ]
     },
     "execution_count": 8,
     "metadata": {},
     "output_type": "execute_result"
    }
   ],
   "source": [
    "predict_next_input()"
   ]
  }
 ],
 "metadata": {
  "kernelspec": {
   "display_name": "Python 3",
   "language": "python",
   "name": "python3"
  },
  "language_info": {
   "codemirror_mode": {
    "name": "ipython",
    "version": 3
   },
   "file_extension": ".py",
   "mimetype": "text/x-python",
   "name": "python",
   "nbconvert_exporter": "python",
   "pygments_lexer": "ipython3",
   "version": "3.10.4"
  },
  "orig_nbformat": 4
 },
 "nbformat": 4,
 "nbformat_minor": 2
}
